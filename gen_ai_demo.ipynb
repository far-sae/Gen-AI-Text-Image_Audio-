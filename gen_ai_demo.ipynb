{
  "cells": [
    {
      "cell_type": "markdown",
      "metadata": {},
      "source": [
        "# \ud83e\udde0 Generative AI Project Demo\n",
        "This notebook demonstrates **Text**, **Image**, and **Audio** generation using OpenAI\u2019s SDK.\n",
        "\n",
        "Before running, make sure you have:\n",
        "1. Installed dependencies: `pip install -r requirements.txt`\n",
        "2. Set your `.env` file with `OPENAI_API_KEY=sk-...`\n"
      ]
    },
    {
      "cell_type": "code",
      "execution_count": null,
      "metadata": {},
      "outputs": [],
      "source": [
        "from dotenv import load_dotenv\n",
        "load_dotenv()\n",
        "print('Environment loaded \u2705')"
      ]
    },
    {
      "cell_type": "markdown",
      "metadata": {},
      "source": [
        "## \ud83d\udcdd Text Generation"
      ]
    },
    {
      "cell_type": "code",
      "execution_count": null,
      "metadata": {},
      "outputs": [],
      "source": [
        "from src.lm.gpt_client import GPTClient\n",
        "client = GPTClient(api_key_env='OPENAI_API_KEY', model='gpt-4o-mini')\n",
        "response = client.generate('Write a 2-line poem about cybersecurity and AI.')\n",
        "print(response['text'])"
      ]
    },
    {
      "cell_type": "markdown",
      "metadata": {},
      "source": [
        "## \ud83c\udfa8 Image Generation"
      ]
    },
    {
      "cell_type": "code",
      "execution_count": null,
      "metadata": {},
      "outputs": [],
      "source": [
        "from src.lm.hf_image_client import OpenAIImageClient\n",
        "client = OpenAIImageClient(api_key_env='OPENAI_API_KEY')\n",
        "result = client.generate('A futuristic AI robot painting art in a neon-lit studio')\n",
        "with open('data/outputs/demo_image.png', 'wb') as f:\n",
        "    f.write(result['image_bytes'])\n",
        "print('\u2705 Image saved to data/outputs/demo_image.png')"
      ]
    },
    {
      "cell_type": "markdown",
      "metadata": {},
      "source": [
        "## \ud83d\udd0a Audio Generation"
      ]
    },
    {
      "cell_type": "code",
      "execution_count": null,
      "metadata": {},
      "outputs": [],
      "source": [
        "from src.lm.audio_client import OpenAIAudioClient\n",
        "client = OpenAIAudioClient(api_key_env='OPENAI_API_KEY')\n",
        "client.generate('Welcome to the world of generative AI!')\n",
        "print('\u2705 Audio saved to data/outputs/speech.mp3')"
      ]
    }
  ],
  "metadata": {
    "kernelspec": {
      "display_name": "Python 3",
      "language": "python",
      "name": "python3"
    },
    "language_info": {
      "name": "python",
      "version": "3.x"
    }
  },
  "nbformat": 4,
  "nbformat_minor": 5
}